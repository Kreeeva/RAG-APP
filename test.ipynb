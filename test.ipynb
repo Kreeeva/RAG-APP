{
 "cells": [
  {
   "cell_type": "code",
   "execution_count": 1,
   "metadata": {},
   "outputs": [
    {
     "data": {
      "text/plain": [
       "True"
      ]
     },
     "execution_count": 1,
     "metadata": {},
     "output_type": "execute_result"
    }
   ],
   "source": [
    "#Retrieval augmented generation\n",
    "\n",
    "import os\n",
    "from dotenv import load_dotenv\n",
    "load_dotenv()"
   ]
  },
  {
   "cell_type": "code",
   "execution_count": 2,
   "metadata": {},
   "outputs": [],
   "source": [
    "os.environ[\"OPENAI_API_KEY\"] = os.getenv(\"OPENAI_API_KEY\")"
   ]
  },
  {
   "cell_type": "code",
   "execution_count": 3,
   "metadata": {},
   "outputs": [
    {
     "name": "stdout",
     "output_type": "stream",
     "text": [
      "[Document(id_='93edea83-ae12-448d-ae42-bf7584c67979', embedding=None, metadata={'page_label': '1', 'file_name': 'medical news today intermittent fasting type 2 diabetes.pdf', 'file_path': 'c:\\\\Users\\\\HP\\\\Desktop\\\\RAG DEMO\\\\data\\\\medical news today intermittent fasting type 2 diabetes.pdf', 'file_type': 'application/pdf', 'file_size': 1389503, 'creation_date': '2024-11-22', 'last_modified_date': '2024-11-22'}, excluded_embed_metadata_keys=['file_name', 'file_type', 'file_size', 'creation_date', 'last_modified_date', 'last_accessed_date'], excluded_llm_metadata_keys=['file_name', 'file_type', 'file_size', 'creation_date', 'last_modified_date', 'last_accessed_date'], relationships={}, text='', mimetype='text/plain', start_char_idx=None, end_char_idx=None, text_template='{metadata_str}\\n\\n{content}', metadata_template='{key}: {value}', metadata_seperator='\\n'), Document(id_='d139775b-a391-4dc2-8d20-844c48d30b72', embedding=None, metadata={'page_label': '2', 'file_name': 'medical news today intermittent fasting type 2 diabetes.pdf', 'file_path': 'c:\\\\Users\\\\HP\\\\Desktop\\\\RAG DEMO\\\\data\\\\medical news today intermittent fasting type 2 diabetes.pdf', 'file_type': 'application/pdf', 'file_size': 1389503, 'creation_date': '2024-11-22', 'last_modified_date': '2024-11-22'}, excluded_embed_metadata_keys=['file_name', 'file_type', 'file_size', 'creation_date', 'last_modified_date', 'last_accessed_date'], excluded_llm_metadata_keys=['file_name', 'file_type', 'file_size', 'creation_date', 'last_modified_date', 'last_accessed_date'], relationships={}, text='', mimetype='text/plain', start_char_idx=None, end_char_idx=None, text_template='{metadata_str}\\n\\n{content}', metadata_template='{key}: {value}', metadata_seperator='\\n'), Document(id_='b3c07184-6083-4947-9ef1-8a4853296e7c', embedding=None, metadata={'page_label': '3', 'file_name': 'medical news today intermittent fasting type 2 diabetes.pdf', 'file_path': 'c:\\\\Users\\\\HP\\\\Desktop\\\\RAG DEMO\\\\data\\\\medical news today intermittent fasting type 2 diabetes.pdf', 'file_type': 'application/pdf', 'file_size': 1389503, 'creation_date': '2024-11-22', 'last_modified_date': '2024-11-22'}, excluded_embed_metadata_keys=['file_name', 'file_type', 'file_size', 'creation_date', 'last_modified_date', 'last_accessed_date'], excluded_llm_metadata_keys=['file_name', 'file_type', 'file_size', 'creation_date', 'last_modified_date', 'last_accessed_date'], relationships={}, text='', mimetype='text/plain', start_char_idx=None, end_char_idx=None, text_template='{metadata_str}\\n\\n{content}', metadata_template='{key}: {value}', metadata_seperator='\\n'), Document(id_='d46e9416-7baf-4525-9fd7-39f2d17978d7', embedding=None, metadata={'page_label': '4', 'file_name': 'medical news today intermittent fasting type 2 diabetes.pdf', 'file_path': 'c:\\\\Users\\\\HP\\\\Desktop\\\\RAG DEMO\\\\data\\\\medical news today intermittent fasting type 2 diabetes.pdf', 'file_type': 'application/pdf', 'file_size': 1389503, 'creation_date': '2024-11-22', 'last_modified_date': '2024-11-22'}, excluded_embed_metadata_keys=['file_name', 'file_type', 'file_size', 'creation_date', 'last_modified_date', 'last_accessed_date'], excluded_llm_metadata_keys=['file_name', 'file_type', 'file_size', 'creation_date', 'last_modified_date', 'last_accessed_date'], relationships={}, text='', mimetype='text/plain', start_char_idx=None, end_char_idx=None, text_template='{metadata_str}\\n\\n{content}', metadata_template='{key}: {value}', metadata_seperator='\\n'), Document(id_='fd53f682-f70a-4b9b-8e45-881bbb86c8c7', embedding=None, metadata={'page_label': '5', 'file_name': 'medical news today intermittent fasting type 2 diabetes.pdf', 'file_path': 'c:\\\\Users\\\\HP\\\\Desktop\\\\RAG DEMO\\\\data\\\\medical news today intermittent fasting type 2 diabetes.pdf', 'file_type': 'application/pdf', 'file_size': 1389503, 'creation_date': '2024-11-22', 'last_modified_date': '2024-11-22'}, excluded_embed_metadata_keys=['file_name', 'file_type', 'file_size', 'creation_date', 'last_modified_date', 'last_accessed_date'], excluded_llm_metadata_keys=['file_name', 'file_type', 'file_size', 'creation_date', 'last_modified_date', 'last_accessed_date'], relationships={}, text='', mimetype='text/plain', start_char_idx=None, end_char_idx=None, text_template='{metadata_str}\\n\\n{content}', metadata_template='{key}: {value}', metadata_seperator='\\n'), Document(id_='52382e3b-8c06-4fe2-b52d-6b72e06d237c', embedding=None, metadata={'page_label': '6', 'file_name': 'medical news today intermittent fasting type 2 diabetes.pdf', 'file_path': 'c:\\\\Users\\\\HP\\\\Desktop\\\\RAG DEMO\\\\data\\\\medical news today intermittent fasting type 2 diabetes.pdf', 'file_type': 'application/pdf', 'file_size': 1389503, 'creation_date': '2024-11-22', 'last_modified_date': '2024-11-22'}, excluded_embed_metadata_keys=['file_name', 'file_type', 'file_size', 'creation_date', 'last_modified_date', 'last_accessed_date'], excluded_llm_metadata_keys=['file_name', 'file_type', 'file_size', 'creation_date', 'last_modified_date', 'last_accessed_date'], relationships={}, text='', mimetype='text/plain', start_char_idx=None, end_char_idx=None, text_template='{metadata_str}\\n\\n{content}', metadata_template='{key}: {value}', metadata_seperator='\\n'), Document(id_='c7345079-f89f-48fb-b25e-06474a6947fe', embedding=None, metadata={'page_label': '7', 'file_name': 'medical news today intermittent fasting type 2 diabetes.pdf', 'file_path': 'c:\\\\Users\\\\HP\\\\Desktop\\\\RAG DEMO\\\\data\\\\medical news today intermittent fasting type 2 diabetes.pdf', 'file_type': 'application/pdf', 'file_size': 1389503, 'creation_date': '2024-11-22', 'last_modified_date': '2024-11-22'}, excluded_embed_metadata_keys=['file_name', 'file_type', 'file_size', 'creation_date', 'last_modified_date', 'last_accessed_date'], excluded_llm_metadata_keys=['file_name', 'file_type', 'file_size', 'creation_date', 'last_modified_date', 'last_accessed_date'], relationships={}, text='', mimetype='text/plain', start_char_idx=None, end_char_idx=None, text_template='{metadata_str}\\n\\n{content}', metadata_template='{key}: {value}', metadata_seperator='\\n'), Document(id_='826a70e4-e24c-411f-9d17-e43fec2cc9b6', embedding=None, metadata={'page_label': '8', 'file_name': 'medical news today intermittent fasting type 2 diabetes.pdf', 'file_path': 'c:\\\\Users\\\\HP\\\\Desktop\\\\RAG DEMO\\\\data\\\\medical news today intermittent fasting type 2 diabetes.pdf', 'file_type': 'application/pdf', 'file_size': 1389503, 'creation_date': '2024-11-22', 'last_modified_date': '2024-11-22'}, excluded_embed_metadata_keys=['file_name', 'file_type', 'file_size', 'creation_date', 'last_modified_date', 'last_accessed_date'], excluded_llm_metadata_keys=['file_name', 'file_type', 'file_size', 'creation_date', 'last_modified_date', 'last_accessed_date'], relationships={}, text='', mimetype='text/plain', start_char_idx=None, end_char_idx=None, text_template='{metadata_str}\\n\\n{content}', metadata_template='{key}: {value}', metadata_seperator='\\n'), Document(id_='d6a9e2b9-d6d8-4aa0-a06d-ab12187f0b4b', embedding=None, metadata={'page_label': '1', 'file_name': 'NIH Diabetes control worsened.pdf', 'file_path': 'c:\\\\Users\\\\HP\\\\Desktop\\\\RAG DEMO\\\\data\\\\NIH Diabetes control worsened.pdf', 'file_type': 'application/pdf', 'file_size': 908057, 'creation_date': '2024-11-22', 'last_modified_date': '2024-11-22'}, excluded_embed_metadata_keys=['file_name', 'file_type', 'file_size', 'creation_date', 'last_modified_date', 'last_accessed_date'], excluded_llm_metadata_keys=['file_name', 'file_type', 'file_size', 'creation_date', 'last_modified_date', 'last_accessed_date'], relationships={}, text='', mimetype='text/plain', start_char_idx=None, end_char_idx=None, text_template='{metadata_str}\\n\\n{content}', metadata_template='{key}: {value}', metadata_seperator='\\n'), Document(id_='c80f9c2e-38bb-43e7-b0ee-8dc7b67c25b4', embedding=None, metadata={'page_label': '2', 'file_name': 'NIH Diabetes control worsened.pdf', 'file_path': 'c:\\\\Users\\\\HP\\\\Desktop\\\\RAG DEMO\\\\data\\\\NIH Diabetes control worsened.pdf', 'file_type': 'application/pdf', 'file_size': 908057, 'creation_date': '2024-11-22', 'last_modified_date': '2024-11-22'}, excluded_embed_metadata_keys=['file_name', 'file_type', 'file_size', 'creation_date', 'last_modified_date', 'last_accessed_date'], excluded_llm_metadata_keys=['file_name', 'file_type', 'file_size', 'creation_date', 'last_modified_date', 'last_accessed_date'], relationships={}, text='', mimetype='text/plain', start_char_idx=None, end_char_idx=None, text_template='{metadata_str}\\n\\n{content}', metadata_template='{key}: {value}', metadata_seperator='\\n'), Document(id_='66d21159-f69a-4b09-97cd-16e65646be0e', embedding=None, metadata={'page_label': '1', 'file_name': 'NIH Diabetes increasing in youths.pdf', 'file_path': 'c:\\\\Users\\\\HP\\\\Desktop\\\\RAG DEMO\\\\data\\\\NIH Diabetes increasing in youths.pdf', 'file_type': 'application/pdf', 'file_size': 885698, 'creation_date': '2024-11-22', 'last_modified_date': '2024-11-22'}, excluded_embed_metadata_keys=['file_name', 'file_type', 'file_size', 'creation_date', 'last_modified_date', 'last_accessed_date'], excluded_llm_metadata_keys=['file_name', 'file_type', 'file_size', 'creation_date', 'last_modified_date', 'last_accessed_date'], relationships={}, text='', mimetype='text/plain', start_char_idx=None, end_char_idx=None, text_template='{metadata_str}\\n\\n{content}', metadata_template='{key}: {value}', metadata_seperator='\\n'), Document(id_='7b3bf173-cf5c-4cf6-be93-3503ab848d1a', embedding=None, metadata={'page_label': '2', 'file_name': 'NIH Diabetes increasing in youths.pdf', 'file_path': 'c:\\\\Users\\\\HP\\\\Desktop\\\\RAG DEMO\\\\data\\\\NIH Diabetes increasing in youths.pdf', 'file_type': 'application/pdf', 'file_size': 885698, 'creation_date': '2024-11-22', 'last_modified_date': '2024-11-22'}, excluded_embed_metadata_keys=['file_name', 'file_type', 'file_size', 'creation_date', 'last_modified_date', 'last_accessed_date'], excluded_llm_metadata_keys=['file_name', 'file_type', 'file_size', 'creation_date', 'last_modified_date', 'last_accessed_date'], relationships={}, text='', mimetype='text/plain', start_char_idx=None, end_char_idx=None, text_template='{metadata_str}\\n\\n{content}', metadata_template='{key}: {value}', metadata_seperator='\\n'), Document(id_='35b3b9d2-8333-4b22-8b46-a3efb2be804b', embedding=None, metadata={'page_label': '1', 'file_name': 'NIH Insulin Resistance & Prediabetes.pdf', 'file_path': 'c:\\\\Users\\\\HP\\\\Desktop\\\\RAG DEMO\\\\data\\\\NIH Insulin Resistance & Prediabetes.pdf', 'file_type': 'application/pdf', 'file_size': 1762584, 'creation_date': '2024-11-22', 'last_modified_date': '2024-11-22'}, excluded_embed_metadata_keys=['file_name', 'file_type', 'file_size', 'creation_date', 'last_modified_date', 'last_accessed_date'], excluded_llm_metadata_keys=['file_name', 'file_type', 'file_size', 'creation_date', 'last_modified_date', 'last_accessed_date'], relationships={}, text='', mimetype='text/plain', start_char_idx=None, end_char_idx=None, text_template='{metadata_str}\\n\\n{content}', metadata_template='{key}: {value}', metadata_seperator='\\n'), Document(id_='496a1fbd-b1ef-47e8-aa36-9b5f1f8311c3', embedding=None, metadata={'page_label': '2', 'file_name': 'NIH Insulin Resistance & Prediabetes.pdf', 'file_path': 'c:\\\\Users\\\\HP\\\\Desktop\\\\RAG DEMO\\\\data\\\\NIH Insulin Resistance & Prediabetes.pdf', 'file_type': 'application/pdf', 'file_size': 1762584, 'creation_date': '2024-11-22', 'last_modified_date': '2024-11-22'}, excluded_embed_metadata_keys=['file_name', 'file_type', 'file_size', 'creation_date', 'last_modified_date', 'last_accessed_date'], excluded_llm_metadata_keys=['file_name', 'file_type', 'file_size', 'creation_date', 'last_modified_date', 'last_accessed_date'], relationships={}, text='', mimetype='text/plain', start_char_idx=None, end_char_idx=None, text_template='{metadata_str}\\n\\n{content}', metadata_template='{key}: {value}', metadata_seperator='\\n'), Document(id_='35d32277-6a3e-4778-baa4-38a6fabd79b5', embedding=None, metadata={'page_label': '3', 'file_name': 'NIH Insulin Resistance & Prediabetes.pdf', 'file_path': 'c:\\\\Users\\\\HP\\\\Desktop\\\\RAG DEMO\\\\data\\\\NIH Insulin Resistance & Prediabetes.pdf', 'file_type': 'application/pdf', 'file_size': 1762584, 'creation_date': '2024-11-22', 'last_modified_date': '2024-11-22'}, excluded_embed_metadata_keys=['file_name', 'file_type', 'file_size', 'creation_date', 'last_modified_date', 'last_accessed_date'], excluded_llm_metadata_keys=['file_name', 'file_type', 'file_size', 'creation_date', 'last_modified_date', 'last_accessed_date'], relationships={}, text='', mimetype='text/plain', start_char_idx=None, end_char_idx=None, text_template='{metadata_str}\\n\\n{content}', metadata_template='{key}: {value}', metadata_seperator='\\n'), Document(id_='9e16a6fe-0923-4141-99c8-4599ed2db7c7', embedding=None, metadata={'page_label': '4', 'file_name': 'NIH Insulin Resistance & Prediabetes.pdf', 'file_path': 'c:\\\\Users\\\\HP\\\\Desktop\\\\RAG DEMO\\\\data\\\\NIH Insulin Resistance & Prediabetes.pdf', 'file_type': 'application/pdf', 'file_size': 1762584, 'creation_date': '2024-11-22', 'last_modified_date': '2024-11-22'}, excluded_embed_metadata_keys=['file_name', 'file_type', 'file_size', 'creation_date', 'last_modified_date', 'last_accessed_date'], excluded_llm_metadata_keys=['file_name', 'file_type', 'file_size', 'creation_date', 'last_modified_date', 'last_accessed_date'], relationships={}, text='', mimetype='text/plain', start_char_idx=None, end_char_idx=None, text_template='{metadata_str}\\n\\n{content}', metadata_template='{key}: {value}', metadata_seperator='\\n'), Document(id_='8e01dfc7-d64d-4e8a-b450-65b484b58b7e', embedding=None, metadata={'page_label': '5', 'file_name': 'NIH Insulin Resistance & Prediabetes.pdf', 'file_path': 'c:\\\\Users\\\\HP\\\\Desktop\\\\RAG DEMO\\\\data\\\\NIH Insulin Resistance & Prediabetes.pdf', 'file_type': 'application/pdf', 'file_size': 1762584, 'creation_date': '2024-11-22', 'last_modified_date': '2024-11-22'}, excluded_embed_metadata_keys=['file_name', 'file_type', 'file_size', 'creation_date', 'last_modified_date', 'last_accessed_date'], excluded_llm_metadata_keys=['file_name', 'file_type', 'file_size', 'creation_date', 'last_modified_date', 'last_accessed_date'], relationships={}, text='', mimetype='text/plain', start_char_idx=None, end_char_idx=None, text_template='{metadata_str}\\n\\n{content}', metadata_template='{key}: {value}', metadata_seperator='\\n'), Document(id_='e40a5c2d-a0c4-4c89-b5ec-cdfb6a92e3fc', embedding=None, metadata={'page_label': '6', 'file_name': 'NIH Insulin Resistance & Prediabetes.pdf', 'file_path': 'c:\\\\Users\\\\HP\\\\Desktop\\\\RAG DEMO\\\\data\\\\NIH Insulin Resistance & Prediabetes.pdf', 'file_type': 'application/pdf', 'file_size': 1762584, 'creation_date': '2024-11-22', 'last_modified_date': '2024-11-22'}, excluded_embed_metadata_keys=['file_name', 'file_type', 'file_size', 'creation_date', 'last_modified_date', 'last_accessed_date'], excluded_llm_metadata_keys=['file_name', 'file_type', 'file_size', 'creation_date', 'last_modified_date', 'last_accessed_date'], relationships={}, text='', mimetype='text/plain', start_char_idx=None, end_char_idx=None, text_template='{metadata_str}\\n\\n{content}', metadata_template='{key}: {value}', metadata_seperator='\\n'), Document(id_='355d422e-c302-4c40-b713-ab87d7166ce2', embedding=None, metadata={'page_label': '7', 'file_name': 'NIH Insulin Resistance & Prediabetes.pdf', 'file_path': 'c:\\\\Users\\\\HP\\\\Desktop\\\\RAG DEMO\\\\data\\\\NIH Insulin Resistance & Prediabetes.pdf', 'file_type': 'application/pdf', 'file_size': 1762584, 'creation_date': '2024-11-22', 'last_modified_date': '2024-11-22'}, excluded_embed_metadata_keys=['file_name', 'file_type', 'file_size', 'creation_date', 'last_modified_date', 'last_accessed_date'], excluded_llm_metadata_keys=['file_name', 'file_type', 'file_size', 'creation_date', 'last_modified_date', 'last_accessed_date'], relationships={}, text='', mimetype='text/plain', start_char_idx=None, end_char_idx=None, text_template='{metadata_str}\\n\\n{content}', metadata_template='{key}: {value}', metadata_seperator='\\n'), Document(id_='793d37b0-57a1-416e-a6fb-88d7d52441e4', embedding=None, metadata={'page_label': '1', 'file_name': 'NIH Research intermitent fasting for weightloss in people with type 2 diabestes.pdf', 'file_path': 'c:\\\\Users\\\\HP\\\\Desktop\\\\RAG DEMO\\\\data\\\\NIH Research intermitent fasting for weightloss in people with type 2 diabestes.pdf', 'file_type': 'application/pdf', 'file_size': 1094899, 'creation_date': '2024-11-22', 'last_modified_date': '2024-11-22'}, excluded_embed_metadata_keys=['file_name', 'file_type', 'file_size', 'creation_date', 'last_modified_date', 'last_accessed_date'], excluded_llm_metadata_keys=['file_name', 'file_type', 'file_size', 'creation_date', 'last_modified_date', 'last_accessed_date'], relationships={}, text='', mimetype='text/plain', start_char_idx=None, end_char_idx=None, text_template='{metadata_str}\\n\\n{content}', metadata_template='{key}: {value}', metadata_seperator='\\n'), Document(id_='6468dd7b-c5f0-40f3-a9c7-b6b05a03ae48', embedding=None, metadata={'page_label': '2', 'file_name': 'NIH Research intermitent fasting for weightloss in people with type 2 diabestes.pdf', 'file_path': 'c:\\\\Users\\\\HP\\\\Desktop\\\\RAG DEMO\\\\data\\\\NIH Research intermitent fasting for weightloss in people with type 2 diabestes.pdf', 'file_type': 'application/pdf', 'file_size': 1094899, 'creation_date': '2024-11-22', 'last_modified_date': '2024-11-22'}, excluded_embed_metadata_keys=['file_name', 'file_type', 'file_size', 'creation_date', 'last_modified_date', 'last_accessed_date'], excluded_llm_metadata_keys=['file_name', 'file_type', 'file_size', 'creation_date', 'last_modified_date', 'last_accessed_date'], relationships={}, text='', mimetype='text/plain', start_char_idx=None, end_char_idx=None, text_template='{metadata_str}\\n\\n{content}', metadata_template='{key}: {value}', metadata_seperator='\\n'), Document(id_='bbe897c8-332a-46b1-99d1-a00551e6d4d9', embedding=None, metadata={'page_label': '1', 'file_name': 'NIH TYPE 2 DIABETES.pdf', 'file_path': 'c:\\\\Users\\\\HP\\\\Desktop\\\\RAG DEMO\\\\data\\\\NIH TYPE 2 DIABETES.pdf', 'file_type': 'application/pdf', 'file_size': 1198495, 'creation_date': '2024-11-22', 'last_modified_date': '2024-11-22'}, excluded_embed_metadata_keys=['file_name', 'file_type', 'file_size', 'creation_date', 'last_modified_date', 'last_accessed_date'], excluded_llm_metadata_keys=['file_name', 'file_type', 'file_size', 'creation_date', 'last_modified_date', 'last_accessed_date'], relationships={}, text='', mimetype='text/plain', start_char_idx=None, end_char_idx=None, text_template='{metadata_str}\\n\\n{content}', metadata_template='{key}: {value}', metadata_seperator='\\n'), Document(id_='82df0fa4-b40a-43a8-8ed8-cc64343a9a76', embedding=None, metadata={'page_label': '2', 'file_name': 'NIH TYPE 2 DIABETES.pdf', 'file_path': 'c:\\\\Users\\\\HP\\\\Desktop\\\\RAG DEMO\\\\data\\\\NIH TYPE 2 DIABETES.pdf', 'file_type': 'application/pdf', 'file_size': 1198495, 'creation_date': '2024-11-22', 'last_modified_date': '2024-11-22'}, excluded_embed_metadata_keys=['file_name', 'file_type', 'file_size', 'creation_date', 'last_modified_date', 'last_accessed_date'], excluded_llm_metadata_keys=['file_name', 'file_type', 'file_size', 'creation_date', 'last_modified_date', 'last_accessed_date'], relationships={}, text='', mimetype='text/plain', start_char_idx=None, end_char_idx=None, text_template='{metadata_str}\\n\\n{content}', metadata_template='{key}: {value}', metadata_seperator='\\n'), Document(id_='0af3533d-1221-459d-b47c-d9bd55991368', embedding=None, metadata={'page_label': '3', 'file_name': 'NIH TYPE 2 DIABETES.pdf', 'file_path': 'c:\\\\Users\\\\HP\\\\Desktop\\\\RAG DEMO\\\\data\\\\NIH TYPE 2 DIABETES.pdf', 'file_type': 'application/pdf', 'file_size': 1198495, 'creation_date': '2024-11-22', 'last_modified_date': '2024-11-22'}, excluded_embed_metadata_keys=['file_name', 'file_type', 'file_size', 'creation_date', 'last_modified_date', 'last_accessed_date'], excluded_llm_metadata_keys=['file_name', 'file_type', 'file_size', 'creation_date', 'last_modified_date', 'last_accessed_date'], relationships={}, text='', mimetype='text/plain', start_char_idx=None, end_char_idx=None, text_template='{metadata_str}\\n\\n{content}', metadata_template='{key}: {value}', metadata_seperator='\\n'), Document(id_='99fc016d-1d4b-416e-95b1-af7a28bc81e6', embedding=None, metadata={'page_label': '4', 'file_name': 'NIH TYPE 2 DIABETES.pdf', 'file_path': 'c:\\\\Users\\\\HP\\\\Desktop\\\\RAG DEMO\\\\data\\\\NIH TYPE 2 DIABETES.pdf', 'file_type': 'application/pdf', 'file_size': 1198495, 'creation_date': '2024-11-22', 'last_modified_date': '2024-11-22'}, excluded_embed_metadata_keys=['file_name', 'file_type', 'file_size', 'creation_date', 'last_modified_date', 'last_accessed_date'], excluded_llm_metadata_keys=['file_name', 'file_type', 'file_size', 'creation_date', 'last_modified_date', 'last_accessed_date'], relationships={}, text='', mimetype='text/plain', start_char_idx=None, end_char_idx=None, text_template='{metadata_str}\\n\\n{content}', metadata_template='{key}: {value}', metadata_seperator='\\n'), Document(id_='277cccfc-03e5-4aa5-b129-2cc64623e7d7', embedding=None, metadata={'page_label': '5', 'file_name': 'NIH TYPE 2 DIABETES.pdf', 'file_path': 'c:\\\\Users\\\\HP\\\\Desktop\\\\RAG DEMO\\\\data\\\\NIH TYPE 2 DIABETES.pdf', 'file_type': 'application/pdf', 'file_size': 1198495, 'creation_date': '2024-11-22', 'last_modified_date': '2024-11-22'}, excluded_embed_metadata_keys=['file_name', 'file_type', 'file_size', 'creation_date', 'last_modified_date', 'last_accessed_date'], excluded_llm_metadata_keys=['file_name', 'file_type', 'file_size', 'creation_date', 'last_modified_date', 'last_accessed_date'], relationships={}, text='', mimetype='text/plain', start_char_idx=None, end_char_idx=None, text_template='{metadata_str}\\n\\n{content}', metadata_template='{key}: {value}', metadata_seperator='\\n')]\n",
      "\n"
     ]
    }
   ],
   "source": [
    "\"\"\"Loading using SimpleDirectoryReader#\n",
    "The easiest reader to use is our SimpleDirectoryReader, which creates documents out of every file \n",
    "in a given directory.It is built in to LlamaIndex and can read a variety of formats including Markdown, \n",
    "PDFs, Word documents, PowerPoint decks, images, audio and video.\"\"\"\n",
    "\n",
    "\n",
    "from llama_index.core import VectorStoreIndex, SimpleDirectoryReader\n",
    "\n",
    "documents= SimpleDirectoryReader(\"data\").load_data()\n",
    "print(documents)\n",
    "print(documents[0].text)"
   ]
  },
  {
   "cell_type": "code",
   "execution_count": 4,
   "metadata": {},
   "outputs": [
    {
     "data": {
      "text/plain": [
       "[Document(id_='93edea83-ae12-448d-ae42-bf7584c67979', embedding=None, metadata={'page_label': '1', 'file_name': 'medical news today intermittent fasting type 2 diabetes.pdf', 'file_path': 'c:\\\\Users\\\\HP\\\\Desktop\\\\RAG DEMO\\\\data\\\\medical news today intermittent fasting type 2 diabetes.pdf', 'file_type': 'application/pdf', 'file_size': 1389503, 'creation_date': '2024-11-22', 'last_modified_date': '2024-11-22'}, excluded_embed_metadata_keys=['file_name', 'file_type', 'file_size', 'creation_date', 'last_modified_date', 'last_accessed_date'], excluded_llm_metadata_keys=['file_name', 'file_type', 'file_size', 'creation_date', 'last_modified_date', 'last_accessed_date'], relationships={}, text='', mimetype='text/plain', start_char_idx=None, end_char_idx=None, text_template='{metadata_str}\\n\\n{content}', metadata_template='{key}: {value}', metadata_seperator='\\n'),\n",
       " Document(id_='d139775b-a391-4dc2-8d20-844c48d30b72', embedding=None, metadata={'page_label': '2', 'file_name': 'medical news today intermittent fasting type 2 diabetes.pdf', 'file_path': 'c:\\\\Users\\\\HP\\\\Desktop\\\\RAG DEMO\\\\data\\\\medical news today intermittent fasting type 2 diabetes.pdf', 'file_type': 'application/pdf', 'file_size': 1389503, 'creation_date': '2024-11-22', 'last_modified_date': '2024-11-22'}, excluded_embed_metadata_keys=['file_name', 'file_type', 'file_size', 'creation_date', 'last_modified_date', 'last_accessed_date'], excluded_llm_metadata_keys=['file_name', 'file_type', 'file_size', 'creation_date', 'last_modified_date', 'last_accessed_date'], relationships={}, text='', mimetype='text/plain', start_char_idx=None, end_char_idx=None, text_template='{metadata_str}\\n\\n{content}', metadata_template='{key}: {value}', metadata_seperator='\\n'),\n",
       " Document(id_='b3c07184-6083-4947-9ef1-8a4853296e7c', embedding=None, metadata={'page_label': '3', 'file_name': 'medical news today intermittent fasting type 2 diabetes.pdf', 'file_path': 'c:\\\\Users\\\\HP\\\\Desktop\\\\RAG DEMO\\\\data\\\\medical news today intermittent fasting type 2 diabetes.pdf', 'file_type': 'application/pdf', 'file_size': 1389503, 'creation_date': '2024-11-22', 'last_modified_date': '2024-11-22'}, excluded_embed_metadata_keys=['file_name', 'file_type', 'file_size', 'creation_date', 'last_modified_date', 'last_accessed_date'], excluded_llm_metadata_keys=['file_name', 'file_type', 'file_size', 'creation_date', 'last_modified_date', 'last_accessed_date'], relationships={}, text='', mimetype='text/plain', start_char_idx=None, end_char_idx=None, text_template='{metadata_str}\\n\\n{content}', metadata_template='{key}: {value}', metadata_seperator='\\n'),\n",
       " Document(id_='d46e9416-7baf-4525-9fd7-39f2d17978d7', embedding=None, metadata={'page_label': '4', 'file_name': 'medical news today intermittent fasting type 2 diabetes.pdf', 'file_path': 'c:\\\\Users\\\\HP\\\\Desktop\\\\RAG DEMO\\\\data\\\\medical news today intermittent fasting type 2 diabetes.pdf', 'file_type': 'application/pdf', 'file_size': 1389503, 'creation_date': '2024-11-22', 'last_modified_date': '2024-11-22'}, excluded_embed_metadata_keys=['file_name', 'file_type', 'file_size', 'creation_date', 'last_modified_date', 'last_accessed_date'], excluded_llm_metadata_keys=['file_name', 'file_type', 'file_size', 'creation_date', 'last_modified_date', 'last_accessed_date'], relationships={}, text='', mimetype='text/plain', start_char_idx=None, end_char_idx=None, text_template='{metadata_str}\\n\\n{content}', metadata_template='{key}: {value}', metadata_seperator='\\n'),\n",
       " Document(id_='fd53f682-f70a-4b9b-8e45-881bbb86c8c7', embedding=None, metadata={'page_label': '5', 'file_name': 'medical news today intermittent fasting type 2 diabetes.pdf', 'file_path': 'c:\\\\Users\\\\HP\\\\Desktop\\\\RAG DEMO\\\\data\\\\medical news today intermittent fasting type 2 diabetes.pdf', 'file_type': 'application/pdf', 'file_size': 1389503, 'creation_date': '2024-11-22', 'last_modified_date': '2024-11-22'}, excluded_embed_metadata_keys=['file_name', 'file_type', 'file_size', 'creation_date', 'last_modified_date', 'last_accessed_date'], excluded_llm_metadata_keys=['file_name', 'file_type', 'file_size', 'creation_date', 'last_modified_date', 'last_accessed_date'], relationships={}, text='', mimetype='text/plain', start_char_idx=None, end_char_idx=None, text_template='{metadata_str}\\n\\n{content}', metadata_template='{key}: {value}', metadata_seperator='\\n'),\n",
       " Document(id_='52382e3b-8c06-4fe2-b52d-6b72e06d237c', embedding=None, metadata={'page_label': '6', 'file_name': 'medical news today intermittent fasting type 2 diabetes.pdf', 'file_path': 'c:\\\\Users\\\\HP\\\\Desktop\\\\RAG DEMO\\\\data\\\\medical news today intermittent fasting type 2 diabetes.pdf', 'file_type': 'application/pdf', 'file_size': 1389503, 'creation_date': '2024-11-22', 'last_modified_date': '2024-11-22'}, excluded_embed_metadata_keys=['file_name', 'file_type', 'file_size', 'creation_date', 'last_modified_date', 'last_accessed_date'], excluded_llm_metadata_keys=['file_name', 'file_type', 'file_size', 'creation_date', 'last_modified_date', 'last_accessed_date'], relationships={}, text='', mimetype='text/plain', start_char_idx=None, end_char_idx=None, text_template='{metadata_str}\\n\\n{content}', metadata_template='{key}: {value}', metadata_seperator='\\n'),\n",
       " Document(id_='c7345079-f89f-48fb-b25e-06474a6947fe', embedding=None, metadata={'page_label': '7', 'file_name': 'medical news today intermittent fasting type 2 diabetes.pdf', 'file_path': 'c:\\\\Users\\\\HP\\\\Desktop\\\\RAG DEMO\\\\data\\\\medical news today intermittent fasting type 2 diabetes.pdf', 'file_type': 'application/pdf', 'file_size': 1389503, 'creation_date': '2024-11-22', 'last_modified_date': '2024-11-22'}, excluded_embed_metadata_keys=['file_name', 'file_type', 'file_size', 'creation_date', 'last_modified_date', 'last_accessed_date'], excluded_llm_metadata_keys=['file_name', 'file_type', 'file_size', 'creation_date', 'last_modified_date', 'last_accessed_date'], relationships={}, text='', mimetype='text/plain', start_char_idx=None, end_char_idx=None, text_template='{metadata_str}\\n\\n{content}', metadata_template='{key}: {value}', metadata_seperator='\\n'),\n",
       " Document(id_='826a70e4-e24c-411f-9d17-e43fec2cc9b6', embedding=None, metadata={'page_label': '8', 'file_name': 'medical news today intermittent fasting type 2 diabetes.pdf', 'file_path': 'c:\\\\Users\\\\HP\\\\Desktop\\\\RAG DEMO\\\\data\\\\medical news today intermittent fasting type 2 diabetes.pdf', 'file_type': 'application/pdf', 'file_size': 1389503, 'creation_date': '2024-11-22', 'last_modified_date': '2024-11-22'}, excluded_embed_metadata_keys=['file_name', 'file_type', 'file_size', 'creation_date', 'last_modified_date', 'last_accessed_date'], excluded_llm_metadata_keys=['file_name', 'file_type', 'file_size', 'creation_date', 'last_modified_date', 'last_accessed_date'], relationships={}, text='', mimetype='text/plain', start_char_idx=None, end_char_idx=None, text_template='{metadata_str}\\n\\n{content}', metadata_template='{key}: {value}', metadata_seperator='\\n'),\n",
       " Document(id_='d6a9e2b9-d6d8-4aa0-a06d-ab12187f0b4b', embedding=None, metadata={'page_label': '1', 'file_name': 'NIH Diabetes control worsened.pdf', 'file_path': 'c:\\\\Users\\\\HP\\\\Desktop\\\\RAG DEMO\\\\data\\\\NIH Diabetes control worsened.pdf', 'file_type': 'application/pdf', 'file_size': 908057, 'creation_date': '2024-11-22', 'last_modified_date': '2024-11-22'}, excluded_embed_metadata_keys=['file_name', 'file_type', 'file_size', 'creation_date', 'last_modified_date', 'last_accessed_date'], excluded_llm_metadata_keys=['file_name', 'file_type', 'file_size', 'creation_date', 'last_modified_date', 'last_accessed_date'], relationships={}, text='', mimetype='text/plain', start_char_idx=None, end_char_idx=None, text_template='{metadata_str}\\n\\n{content}', metadata_template='{key}: {value}', metadata_seperator='\\n'),\n",
       " Document(id_='c80f9c2e-38bb-43e7-b0ee-8dc7b67c25b4', embedding=None, metadata={'page_label': '2', 'file_name': 'NIH Diabetes control worsened.pdf', 'file_path': 'c:\\\\Users\\\\HP\\\\Desktop\\\\RAG DEMO\\\\data\\\\NIH Diabetes control worsened.pdf', 'file_type': 'application/pdf', 'file_size': 908057, 'creation_date': '2024-11-22', 'last_modified_date': '2024-11-22'}, excluded_embed_metadata_keys=['file_name', 'file_type', 'file_size', 'creation_date', 'last_modified_date', 'last_accessed_date'], excluded_llm_metadata_keys=['file_name', 'file_type', 'file_size', 'creation_date', 'last_modified_date', 'last_accessed_date'], relationships={}, text='', mimetype='text/plain', start_char_idx=None, end_char_idx=None, text_template='{metadata_str}\\n\\n{content}', metadata_template='{key}: {value}', metadata_seperator='\\n'),\n",
       " Document(id_='66d21159-f69a-4b09-97cd-16e65646be0e', embedding=None, metadata={'page_label': '1', 'file_name': 'NIH Diabetes increasing in youths.pdf', 'file_path': 'c:\\\\Users\\\\HP\\\\Desktop\\\\RAG DEMO\\\\data\\\\NIH Diabetes increasing in youths.pdf', 'file_type': 'application/pdf', 'file_size': 885698, 'creation_date': '2024-11-22', 'last_modified_date': '2024-11-22'}, excluded_embed_metadata_keys=['file_name', 'file_type', 'file_size', 'creation_date', 'last_modified_date', 'last_accessed_date'], excluded_llm_metadata_keys=['file_name', 'file_type', 'file_size', 'creation_date', 'last_modified_date', 'last_accessed_date'], relationships={}, text='', mimetype='text/plain', start_char_idx=None, end_char_idx=None, text_template='{metadata_str}\\n\\n{content}', metadata_template='{key}: {value}', metadata_seperator='\\n'),\n",
       " Document(id_='7b3bf173-cf5c-4cf6-be93-3503ab848d1a', embedding=None, metadata={'page_label': '2', 'file_name': 'NIH Diabetes increasing in youths.pdf', 'file_path': 'c:\\\\Users\\\\HP\\\\Desktop\\\\RAG DEMO\\\\data\\\\NIH Diabetes increasing in youths.pdf', 'file_type': 'application/pdf', 'file_size': 885698, 'creation_date': '2024-11-22', 'last_modified_date': '2024-11-22'}, excluded_embed_metadata_keys=['file_name', 'file_type', 'file_size', 'creation_date', 'last_modified_date', 'last_accessed_date'], excluded_llm_metadata_keys=['file_name', 'file_type', 'file_size', 'creation_date', 'last_modified_date', 'last_accessed_date'], relationships={}, text='', mimetype='text/plain', start_char_idx=None, end_char_idx=None, text_template='{metadata_str}\\n\\n{content}', metadata_template='{key}: {value}', metadata_seperator='\\n'),\n",
       " Document(id_='35b3b9d2-8333-4b22-8b46-a3efb2be804b', embedding=None, metadata={'page_label': '1', 'file_name': 'NIH Insulin Resistance & Prediabetes.pdf', 'file_path': 'c:\\\\Users\\\\HP\\\\Desktop\\\\RAG DEMO\\\\data\\\\NIH Insulin Resistance & Prediabetes.pdf', 'file_type': 'application/pdf', 'file_size': 1762584, 'creation_date': '2024-11-22', 'last_modified_date': '2024-11-22'}, excluded_embed_metadata_keys=['file_name', 'file_type', 'file_size', 'creation_date', 'last_modified_date', 'last_accessed_date'], excluded_llm_metadata_keys=['file_name', 'file_type', 'file_size', 'creation_date', 'last_modified_date', 'last_accessed_date'], relationships={}, text='', mimetype='text/plain', start_char_idx=None, end_char_idx=None, text_template='{metadata_str}\\n\\n{content}', metadata_template='{key}: {value}', metadata_seperator='\\n'),\n",
       " Document(id_='496a1fbd-b1ef-47e8-aa36-9b5f1f8311c3', embedding=None, metadata={'page_label': '2', 'file_name': 'NIH Insulin Resistance & Prediabetes.pdf', 'file_path': 'c:\\\\Users\\\\HP\\\\Desktop\\\\RAG DEMO\\\\data\\\\NIH Insulin Resistance & Prediabetes.pdf', 'file_type': 'application/pdf', 'file_size': 1762584, 'creation_date': '2024-11-22', 'last_modified_date': '2024-11-22'}, excluded_embed_metadata_keys=['file_name', 'file_type', 'file_size', 'creation_date', 'last_modified_date', 'last_accessed_date'], excluded_llm_metadata_keys=['file_name', 'file_type', 'file_size', 'creation_date', 'last_modified_date', 'last_accessed_date'], relationships={}, text='', mimetype='text/plain', start_char_idx=None, end_char_idx=None, text_template='{metadata_str}\\n\\n{content}', metadata_template='{key}: {value}', metadata_seperator='\\n'),\n",
       " Document(id_='35d32277-6a3e-4778-baa4-38a6fabd79b5', embedding=None, metadata={'page_label': '3', 'file_name': 'NIH Insulin Resistance & Prediabetes.pdf', 'file_path': 'c:\\\\Users\\\\HP\\\\Desktop\\\\RAG DEMO\\\\data\\\\NIH Insulin Resistance & Prediabetes.pdf', 'file_type': 'application/pdf', 'file_size': 1762584, 'creation_date': '2024-11-22', 'last_modified_date': '2024-11-22'}, excluded_embed_metadata_keys=['file_name', 'file_type', 'file_size', 'creation_date', 'last_modified_date', 'last_accessed_date'], excluded_llm_metadata_keys=['file_name', 'file_type', 'file_size', 'creation_date', 'last_modified_date', 'last_accessed_date'], relationships={}, text='', mimetype='text/plain', start_char_idx=None, end_char_idx=None, text_template='{metadata_str}\\n\\n{content}', metadata_template='{key}: {value}', metadata_seperator='\\n'),\n",
       " Document(id_='9e16a6fe-0923-4141-99c8-4599ed2db7c7', embedding=None, metadata={'page_label': '4', 'file_name': 'NIH Insulin Resistance & Prediabetes.pdf', 'file_path': 'c:\\\\Users\\\\HP\\\\Desktop\\\\RAG DEMO\\\\data\\\\NIH Insulin Resistance & Prediabetes.pdf', 'file_type': 'application/pdf', 'file_size': 1762584, 'creation_date': '2024-11-22', 'last_modified_date': '2024-11-22'}, excluded_embed_metadata_keys=['file_name', 'file_type', 'file_size', 'creation_date', 'last_modified_date', 'last_accessed_date'], excluded_llm_metadata_keys=['file_name', 'file_type', 'file_size', 'creation_date', 'last_modified_date', 'last_accessed_date'], relationships={}, text='', mimetype='text/plain', start_char_idx=None, end_char_idx=None, text_template='{metadata_str}\\n\\n{content}', metadata_template='{key}: {value}', metadata_seperator='\\n'),\n",
       " Document(id_='8e01dfc7-d64d-4e8a-b450-65b484b58b7e', embedding=None, metadata={'page_label': '5', 'file_name': 'NIH Insulin Resistance & Prediabetes.pdf', 'file_path': 'c:\\\\Users\\\\HP\\\\Desktop\\\\RAG DEMO\\\\data\\\\NIH Insulin Resistance & Prediabetes.pdf', 'file_type': 'application/pdf', 'file_size': 1762584, 'creation_date': '2024-11-22', 'last_modified_date': '2024-11-22'}, excluded_embed_metadata_keys=['file_name', 'file_type', 'file_size', 'creation_date', 'last_modified_date', 'last_accessed_date'], excluded_llm_metadata_keys=['file_name', 'file_type', 'file_size', 'creation_date', 'last_modified_date', 'last_accessed_date'], relationships={}, text='', mimetype='text/plain', start_char_idx=None, end_char_idx=None, text_template='{metadata_str}\\n\\n{content}', metadata_template='{key}: {value}', metadata_seperator='\\n'),\n",
       " Document(id_='e40a5c2d-a0c4-4c89-b5ec-cdfb6a92e3fc', embedding=None, metadata={'page_label': '6', 'file_name': 'NIH Insulin Resistance & Prediabetes.pdf', 'file_path': 'c:\\\\Users\\\\HP\\\\Desktop\\\\RAG DEMO\\\\data\\\\NIH Insulin Resistance & Prediabetes.pdf', 'file_type': 'application/pdf', 'file_size': 1762584, 'creation_date': '2024-11-22', 'last_modified_date': '2024-11-22'}, excluded_embed_metadata_keys=['file_name', 'file_type', 'file_size', 'creation_date', 'last_modified_date', 'last_accessed_date'], excluded_llm_metadata_keys=['file_name', 'file_type', 'file_size', 'creation_date', 'last_modified_date', 'last_accessed_date'], relationships={}, text='', mimetype='text/plain', start_char_idx=None, end_char_idx=None, text_template='{metadata_str}\\n\\n{content}', metadata_template='{key}: {value}', metadata_seperator='\\n'),\n",
       " Document(id_='355d422e-c302-4c40-b713-ab87d7166ce2', embedding=None, metadata={'page_label': '7', 'file_name': 'NIH Insulin Resistance & Prediabetes.pdf', 'file_path': 'c:\\\\Users\\\\HP\\\\Desktop\\\\RAG DEMO\\\\data\\\\NIH Insulin Resistance & Prediabetes.pdf', 'file_type': 'application/pdf', 'file_size': 1762584, 'creation_date': '2024-11-22', 'last_modified_date': '2024-11-22'}, excluded_embed_metadata_keys=['file_name', 'file_type', 'file_size', 'creation_date', 'last_modified_date', 'last_accessed_date'], excluded_llm_metadata_keys=['file_name', 'file_type', 'file_size', 'creation_date', 'last_modified_date', 'last_accessed_date'], relationships={}, text='', mimetype='text/plain', start_char_idx=None, end_char_idx=None, text_template='{metadata_str}\\n\\n{content}', metadata_template='{key}: {value}', metadata_seperator='\\n'),\n",
       " Document(id_='793d37b0-57a1-416e-a6fb-88d7d52441e4', embedding=None, metadata={'page_label': '1', 'file_name': 'NIH Research intermitent fasting for weightloss in people with type 2 diabestes.pdf', 'file_path': 'c:\\\\Users\\\\HP\\\\Desktop\\\\RAG DEMO\\\\data\\\\NIH Research intermitent fasting for weightloss in people with type 2 diabestes.pdf', 'file_type': 'application/pdf', 'file_size': 1094899, 'creation_date': '2024-11-22', 'last_modified_date': '2024-11-22'}, excluded_embed_metadata_keys=['file_name', 'file_type', 'file_size', 'creation_date', 'last_modified_date', 'last_accessed_date'], excluded_llm_metadata_keys=['file_name', 'file_type', 'file_size', 'creation_date', 'last_modified_date', 'last_accessed_date'], relationships={}, text='', mimetype='text/plain', start_char_idx=None, end_char_idx=None, text_template='{metadata_str}\\n\\n{content}', metadata_template='{key}: {value}', metadata_seperator='\\n'),\n",
       " Document(id_='6468dd7b-c5f0-40f3-a9c7-b6b05a03ae48', embedding=None, metadata={'page_label': '2', 'file_name': 'NIH Research intermitent fasting for weightloss in people with type 2 diabestes.pdf', 'file_path': 'c:\\\\Users\\\\HP\\\\Desktop\\\\RAG DEMO\\\\data\\\\NIH Research intermitent fasting for weightloss in people with type 2 diabestes.pdf', 'file_type': 'application/pdf', 'file_size': 1094899, 'creation_date': '2024-11-22', 'last_modified_date': '2024-11-22'}, excluded_embed_metadata_keys=['file_name', 'file_type', 'file_size', 'creation_date', 'last_modified_date', 'last_accessed_date'], excluded_llm_metadata_keys=['file_name', 'file_type', 'file_size', 'creation_date', 'last_modified_date', 'last_accessed_date'], relationships={}, text='', mimetype='text/plain', start_char_idx=None, end_char_idx=None, text_template='{metadata_str}\\n\\n{content}', metadata_template='{key}: {value}', metadata_seperator='\\n'),\n",
       " Document(id_='bbe897c8-332a-46b1-99d1-a00551e6d4d9', embedding=None, metadata={'page_label': '1', 'file_name': 'NIH TYPE 2 DIABETES.pdf', 'file_path': 'c:\\\\Users\\\\HP\\\\Desktop\\\\RAG DEMO\\\\data\\\\NIH TYPE 2 DIABETES.pdf', 'file_type': 'application/pdf', 'file_size': 1198495, 'creation_date': '2024-11-22', 'last_modified_date': '2024-11-22'}, excluded_embed_metadata_keys=['file_name', 'file_type', 'file_size', 'creation_date', 'last_modified_date', 'last_accessed_date'], excluded_llm_metadata_keys=['file_name', 'file_type', 'file_size', 'creation_date', 'last_modified_date', 'last_accessed_date'], relationships={}, text='', mimetype='text/plain', start_char_idx=None, end_char_idx=None, text_template='{metadata_str}\\n\\n{content}', metadata_template='{key}: {value}', metadata_seperator='\\n'),\n",
       " Document(id_='82df0fa4-b40a-43a8-8ed8-cc64343a9a76', embedding=None, metadata={'page_label': '2', 'file_name': 'NIH TYPE 2 DIABETES.pdf', 'file_path': 'c:\\\\Users\\\\HP\\\\Desktop\\\\RAG DEMO\\\\data\\\\NIH TYPE 2 DIABETES.pdf', 'file_type': 'application/pdf', 'file_size': 1198495, 'creation_date': '2024-11-22', 'last_modified_date': '2024-11-22'}, excluded_embed_metadata_keys=['file_name', 'file_type', 'file_size', 'creation_date', 'last_modified_date', 'last_accessed_date'], excluded_llm_metadata_keys=['file_name', 'file_type', 'file_size', 'creation_date', 'last_modified_date', 'last_accessed_date'], relationships={}, text='', mimetype='text/plain', start_char_idx=None, end_char_idx=None, text_template='{metadata_str}\\n\\n{content}', metadata_template='{key}: {value}', metadata_seperator='\\n'),\n",
       " Document(id_='0af3533d-1221-459d-b47c-d9bd55991368', embedding=None, metadata={'page_label': '3', 'file_name': 'NIH TYPE 2 DIABETES.pdf', 'file_path': 'c:\\\\Users\\\\HP\\\\Desktop\\\\RAG DEMO\\\\data\\\\NIH TYPE 2 DIABETES.pdf', 'file_type': 'application/pdf', 'file_size': 1198495, 'creation_date': '2024-11-22', 'last_modified_date': '2024-11-22'}, excluded_embed_metadata_keys=['file_name', 'file_type', 'file_size', 'creation_date', 'last_modified_date', 'last_accessed_date'], excluded_llm_metadata_keys=['file_name', 'file_type', 'file_size', 'creation_date', 'last_modified_date', 'last_accessed_date'], relationships={}, text='', mimetype='text/plain', start_char_idx=None, end_char_idx=None, text_template='{metadata_str}\\n\\n{content}', metadata_template='{key}: {value}', metadata_seperator='\\n'),\n",
       " Document(id_='99fc016d-1d4b-416e-95b1-af7a28bc81e6', embedding=None, metadata={'page_label': '4', 'file_name': 'NIH TYPE 2 DIABETES.pdf', 'file_path': 'c:\\\\Users\\\\HP\\\\Desktop\\\\RAG DEMO\\\\data\\\\NIH TYPE 2 DIABETES.pdf', 'file_type': 'application/pdf', 'file_size': 1198495, 'creation_date': '2024-11-22', 'last_modified_date': '2024-11-22'}, excluded_embed_metadata_keys=['file_name', 'file_type', 'file_size', 'creation_date', 'last_modified_date', 'last_accessed_date'], excluded_llm_metadata_keys=['file_name', 'file_type', 'file_size', 'creation_date', 'last_modified_date', 'last_accessed_date'], relationships={}, text='', mimetype='text/plain', start_char_idx=None, end_char_idx=None, text_template='{metadata_str}\\n\\n{content}', metadata_template='{key}: {value}', metadata_seperator='\\n'),\n",
       " Document(id_='277cccfc-03e5-4aa5-b129-2cc64623e7d7', embedding=None, metadata={'page_label': '5', 'file_name': 'NIH TYPE 2 DIABETES.pdf', 'file_path': 'c:\\\\Users\\\\HP\\\\Desktop\\\\RAG DEMO\\\\data\\\\NIH TYPE 2 DIABETES.pdf', 'file_type': 'application/pdf', 'file_size': 1198495, 'creation_date': '2024-11-22', 'last_modified_date': '2024-11-22'}, excluded_embed_metadata_keys=['file_name', 'file_type', 'file_size', 'creation_date', 'last_modified_date', 'last_accessed_date'], excluded_llm_metadata_keys=['file_name', 'file_type', 'file_size', 'creation_date', 'last_modified_date', 'last_accessed_date'], relationships={}, text='', mimetype='text/plain', start_char_idx=None, end_char_idx=None, text_template='{metadata_str}\\n\\n{content}', metadata_template='{key}: {value}', metadata_seperator='\\n')]"
      ]
     },
     "execution_count": 4,
     "metadata": {},
     "output_type": "execute_result"
    }
   ],
   "source": [
    "documents"
   ]
  },
  {
   "cell_type": "code",
   "execution_count": 5,
   "metadata": {},
   "outputs": [],
   "source": [
    "\"\"\"After the data is loaded, you then need to process and transform your data before putting it into a storage system. \n",
    "These transformations include chunking, extracting metadata, and embedding each chunk. This is necessary to make sure \n",
    "that the data can be retrieved, and used optimally by the LLM.\"\"\"\n",
    "\n",
    "from llama_index.core.node_parser import SentenceSplitter\n",
    "\n",
    "text_splitter = SentenceSplitter(chunk_size=512, chunk_overlap=10)\n",
    "\n",
    "# global\n",
    "from llama_index.core import Settings\n",
    "\n",
    "Settings.text_splitter = text_splitter\n",
    "\n",
    "# per-index\n",
    "index = VectorStoreIndex.from_documents(documents, transformations=[text_splitter])"
   ]
  },
  {
   "cell_type": "code",
   "execution_count": 6,
   "metadata": {},
   "outputs": [
    {
     "data": {
      "text/plain": [
       "<llama_index.core.indices.vector_store.base.VectorStoreIndex at 0x144238f9450>"
      ]
     },
     "execution_count": 6,
     "metadata": {},
     "output_type": "execute_result"
    }
   ],
   "source": [
    "index"
   ]
  },
  {
   "cell_type": "code",
   "execution_count": 7,
   "metadata": {},
   "outputs": [],
   "source": [
    "query_engine=index.as_query_engine()"
   ]
  },
  {
   "cell_type": "code",
   "execution_count": 8,
   "metadata": {},
   "outputs": [
    {
     "data": {
      "text/plain": [
       "<llama_index.core.query_engine.retriever_query_engine.RetrieverQueryEngine at 0x144264e4410>"
      ]
     },
     "execution_count": 8,
     "metadata": {},
     "output_type": "execute_result"
    }
   ],
   "source": [
    "query_engine"
   ]
  },
  {
   "cell_type": "code",
   "execution_count": 14,
   "metadata": {},
   "outputs": [],
   "source": [
    "# from llama_index.retrievers import VectorIndexRetriever\n",
    "from llama_index.core.indices.vector_store.retrievers import VectorIndexRetriever\n",
    "# from llama_index.query_engine import RetrieverQueryEngine\n",
    "from llama_index.core.query_engine import RetrieverQueryEngine\n",
    "#from llama_index.indices.postprocessor import SimilarityPostprocessor\n",
    "from llama_index.core.postprocessor import SimilarityPostprocessor\n",
    "\n",
    "\n",
    "retriever = VectorIndexRetriever(index=index, similarity_top_k=4)\n",
    "postprocessor = SimilarityPostprocessor(similarity_cutoff=0.80)\n",
    "\n",
    "query_engine = RetrieverQueryEngine(\n",
    "    retriever=retriever, node_postprocessors=[postprocessor]\n",
    ")"
   ]
  },
  {
   "cell_type": "code",
   "execution_count": 15,
   "metadata": {},
   "outputs": [
    {
     "data": {
      "text/plain": [
       "Response(response=\"Insulin resistance is a condition where the body's cells become resistant to the effects of insulin, leading to elevated blood sugar levels. Risk factors for insulin resistance include obesity, physical inactivity, unhealthy diet, family history of diabetes, and certain medical conditions like polycystic ovary syndrome.\", source_nodes=[NodeWithScore(node=TextNode(id_='fdf2ec54-84a5-4eff-a078-ff3743e429fc', embedding=None, metadata={'page_label': '7', 'file_name': 'NIH Insulin Resistance & Prediabetes.pdf', 'file_path': 'c:\\\\Users\\\\HP\\\\Desktop\\\\RAG DEMO\\\\data\\\\NIH Insulin Resistance & Prediabetes.pdf', 'file_type': 'application/pdf', 'file_size': 1762584, 'creation_date': '2024-11-22', 'last_modified_date': '2024-11-22'}, excluded_embed_metadata_keys=['file_name', 'file_type', 'file_size', 'creation_date', 'last_modified_date', 'last_accessed_date'], excluded_llm_metadata_keys=['file_name', 'file_type', 'file_size', 'creation_date', 'last_modified_date', 'last_accessed_date'], relationships={<NodeRelationship.SOURCE: '1'>: RelatedNodeInfo(node_id='355d422e-c302-4c40-b713-ab87d7166ce2', node_type=<ObjectType.DOCUMENT: '4'>, metadata={'page_label': '7', 'file_name': 'NIH Insulin Resistance & Prediabetes.pdf', 'file_path': 'c:\\\\Users\\\\HP\\\\Desktop\\\\RAG DEMO\\\\data\\\\NIH Insulin Resistance & Prediabetes.pdf', 'file_type': 'application/pdf', 'file_size': 1762584, 'creation_date': '2024-11-22', 'last_modified_date': '2024-11-22'}, hash='64445c401828db858ea072258776986b5990caa6ffc42502657fd4f521ecb22e')}, text='', mimetype='text/plain', start_char_idx=0, end_char_idx=0, text_template='{metadata_str}\\n\\n{content}', metadata_template='{key}: {value}', metadata_seperator='\\n'), score=0.810038181906677), NodeWithScore(node=TextNode(id_='97281fa3-aff9-462d-87b3-8fe441f40c8e', embedding=None, metadata={'page_label': '6', 'file_name': 'NIH Insulin Resistance & Prediabetes.pdf', 'file_path': 'c:\\\\Users\\\\HP\\\\Desktop\\\\RAG DEMO\\\\data\\\\NIH Insulin Resistance & Prediabetes.pdf', 'file_type': 'application/pdf', 'file_size': 1762584, 'creation_date': '2024-11-22', 'last_modified_date': '2024-11-22'}, excluded_embed_metadata_keys=['file_name', 'file_type', 'file_size', 'creation_date', 'last_modified_date', 'last_accessed_date'], excluded_llm_metadata_keys=['file_name', 'file_type', 'file_size', 'creation_date', 'last_modified_date', 'last_accessed_date'], relationships={<NodeRelationship.SOURCE: '1'>: RelatedNodeInfo(node_id='e40a5c2d-a0c4-4c89-b5ec-cdfb6a92e3fc', node_type=<ObjectType.DOCUMENT: '4'>, metadata={'page_label': '6', 'file_name': 'NIH Insulin Resistance & Prediabetes.pdf', 'file_path': 'c:\\\\Users\\\\HP\\\\Desktop\\\\RAG DEMO\\\\data\\\\NIH Insulin Resistance & Prediabetes.pdf', 'file_type': 'application/pdf', 'file_size': 1762584, 'creation_date': '2024-11-22', 'last_modified_date': '2024-11-22'}, hash='06b2af469dd2d566224d99640b7f5c2a24d5190dee3b9faf0c47c81bf7c8694f')}, text='', mimetype='text/plain', start_char_idx=0, end_char_idx=0, text_template='{metadata_str}\\n\\n{content}', metadata_template='{key}: {value}', metadata_seperator='\\n'), score=0.8090878685576732), NodeWithScore(node=TextNode(id_='cb975b37-3a46-48fd-a44a-8f130bfd81e1', embedding=None, metadata={'page_label': '5', 'file_name': 'NIH Insulin Resistance & Prediabetes.pdf', 'file_path': 'c:\\\\Users\\\\HP\\\\Desktop\\\\RAG DEMO\\\\data\\\\NIH Insulin Resistance & Prediabetes.pdf', 'file_type': 'application/pdf', 'file_size': 1762584, 'creation_date': '2024-11-22', 'last_modified_date': '2024-11-22'}, excluded_embed_metadata_keys=['file_name', 'file_type', 'file_size', 'creation_date', 'last_modified_date', 'last_accessed_date'], excluded_llm_metadata_keys=['file_name', 'file_type', 'file_size', 'creation_date', 'last_modified_date', 'last_accessed_date'], relationships={<NodeRelationship.SOURCE: '1'>: RelatedNodeInfo(node_id='8e01dfc7-d64d-4e8a-b450-65b484b58b7e', node_type=<ObjectType.DOCUMENT: '4'>, metadata={'page_label': '5', 'file_name': 'NIH Insulin Resistance & Prediabetes.pdf', 'file_path': 'c:\\\\Users\\\\HP\\\\Desktop\\\\RAG DEMO\\\\data\\\\NIH Insulin Resistance & Prediabetes.pdf', 'file_type': 'application/pdf', 'file_size': 1762584, 'creation_date': '2024-11-22', 'last_modified_date': '2024-11-22'}, hash='f204a8f52a33b2e8e922e07b59fa9429cf3225cbff1fff1f62568b6e2f824e51')}, text='', mimetype='text/plain', start_char_idx=0, end_char_idx=0, text_template='{metadata_str}\\n\\n{content}', metadata_template='{key}: {value}', metadata_seperator='\\n'), score=0.8054640094491757), NodeWithScore(node=TextNode(id_='7bc6dad8-9828-4cb9-b5c0-f5704d5ff52a', embedding=None, metadata={'page_label': '3', 'file_name': 'NIH Insulin Resistance & Prediabetes.pdf', 'file_path': 'c:\\\\Users\\\\HP\\\\Desktop\\\\RAG DEMO\\\\data\\\\NIH Insulin Resistance & Prediabetes.pdf', 'file_type': 'application/pdf', 'file_size': 1762584, 'creation_date': '2024-11-22', 'last_modified_date': '2024-11-22'}, excluded_embed_metadata_keys=['file_name', 'file_type', 'file_size', 'creation_date', 'last_modified_date', 'last_accessed_date'], excluded_llm_metadata_keys=['file_name', 'file_type', 'file_size', 'creation_date', 'last_modified_date', 'last_accessed_date'], relationships={<NodeRelationship.SOURCE: '1'>: RelatedNodeInfo(node_id='35d32277-6a3e-4778-baa4-38a6fabd79b5', node_type=<ObjectType.DOCUMENT: '4'>, metadata={'page_label': '3', 'file_name': 'NIH Insulin Resistance & Prediabetes.pdf', 'file_path': 'c:\\\\Users\\\\HP\\\\Desktop\\\\RAG DEMO\\\\data\\\\NIH Insulin Resistance & Prediabetes.pdf', 'file_type': 'application/pdf', 'file_size': 1762584, 'creation_date': '2024-11-22', 'last_modified_date': '2024-11-22'}, hash='a6413de12bd50b37532b389c72d6ed0aad26f9fc34fe555cccc697396779fc70')}, text='', mimetype='text/plain', start_char_idx=0, end_char_idx=0, text_template='{metadata_str}\\n\\n{content}', metadata_template='{key}: {value}', metadata_seperator='\\n'), score=0.8026109041357763)], metadata={'fdf2ec54-84a5-4eff-a078-ff3743e429fc': {'page_label': '7', 'file_name': 'NIH Insulin Resistance & Prediabetes.pdf', 'file_path': 'c:\\\\Users\\\\HP\\\\Desktop\\\\RAG DEMO\\\\data\\\\NIH Insulin Resistance & Prediabetes.pdf', 'file_type': 'application/pdf', 'file_size': 1762584, 'creation_date': '2024-11-22', 'last_modified_date': '2024-11-22'}, '97281fa3-aff9-462d-87b3-8fe441f40c8e': {'page_label': '6', 'file_name': 'NIH Insulin Resistance & Prediabetes.pdf', 'file_path': 'c:\\\\Users\\\\HP\\\\Desktop\\\\RAG DEMO\\\\data\\\\NIH Insulin Resistance & Prediabetes.pdf', 'file_type': 'application/pdf', 'file_size': 1762584, 'creation_date': '2024-11-22', 'last_modified_date': '2024-11-22'}, 'cb975b37-3a46-48fd-a44a-8f130bfd81e1': {'page_label': '5', 'file_name': 'NIH Insulin Resistance & Prediabetes.pdf', 'file_path': 'c:\\\\Users\\\\HP\\\\Desktop\\\\RAG DEMO\\\\data\\\\NIH Insulin Resistance & Prediabetes.pdf', 'file_type': 'application/pdf', 'file_size': 1762584, 'creation_date': '2024-11-22', 'last_modified_date': '2024-11-22'}, '7bc6dad8-9828-4cb9-b5c0-f5704d5ff52a': {'page_label': '3', 'file_name': 'NIH Insulin Resistance & Prediabetes.pdf', 'file_path': 'c:\\\\Users\\\\HP\\\\Desktop\\\\RAG DEMO\\\\data\\\\NIH Insulin Resistance & Prediabetes.pdf', 'file_type': 'application/pdf', 'file_size': 1762584, 'creation_date': '2024-11-22', 'last_modified_date': '2024-11-22'}})"
      ]
     },
     "execution_count": 15,
     "metadata": {},
     "output_type": "execute_result"
    }
   ],
   "source": [
    "response=query_engine.query(\"what is insulin resistance and risk factors\")\n",
    "response"
   ]
  },
  {
   "cell_type": "code",
   "execution_count": 16,
   "metadata": {},
   "outputs": [
    {
     "name": "stdout",
     "output_type": "stream",
     "text": [
      "Final Response: Insulin resistance is a condition where the body's\n",
      "cells become resistant to the effects of insulin, leading to elevated\n",
      "blood sugar levels. Risk factors for insulin resistance include\n",
      "obesity, physical inactivity, unhealthy diet, family history of\n",
      "diabetes, and certain medical conditions like polycystic ovary\n",
      "syndrome.\n",
      "______________________________________________________________________\n",
      "Source Node 1/4\n",
      "Node ID: fdf2ec54-84a5-4eff-a078-ff3743e429fc\n",
      "Similarity: 0.810038181906677\n",
      "Text:\n",
      "______________________________________________________________________\n",
      "Source Node 2/4\n",
      "Node ID: 97281fa3-aff9-462d-87b3-8fe441f40c8e\n",
      "Similarity: 0.8090878685576732\n",
      "Text:\n",
      "______________________________________________________________________\n",
      "Source Node 3/4\n",
      "Node ID: cb975b37-3a46-48fd-a44a-8f130bfd81e1\n",
      "Similarity: 0.8054640094491757\n",
      "Text:\n",
      "______________________________________________________________________\n",
      "Source Node 4/4\n",
      "Node ID: 7bc6dad8-9828-4cb9-b5c0-f5704d5ff52a\n",
      "Similarity: 0.8026109041357763\n",
      "Text:\n",
      "Insulin resistance is a condition where the body's cells become resistant to the effects of insulin, leading to elevated blood sugar levels. Risk factors for insulin resistance include obesity, physical inactivity, unhealthy diet, family history of diabetes, and certain medical conditions like polycystic ovary syndrome.\n"
     ]
    }
   ],
   "source": [
    "# from llama_index.response.pprint_utils import pprint_response\n",
    "# from llama_index.utils import pprint_response\n",
    "# from llama_index.response.utils import pprint_response\n",
    "# from llama_index.response.pprint_utils import pprint_response\n",
    "from llama_index.core.response.pprint_utils import pprint_response\n",
    "\n",
    "pprint_response(response, show_source=True)\n",
    "print(response)"
   ]
  },
  {
   "cell_type": "code",
   "execution_count": 19,
   "metadata": {},
   "outputs": [
    {
     "name": "stdout",
     "output_type": "stream",
     "text": [
      "Insulin resistance is a condition where the body's cells become less responsive to insulin, leading to higher levels of glucose in the blood. This can eventually result in the development of type 2 diabetes, as the pancreas struggles to produce enough insulin to regulate blood sugar levels effectively. Over time, if insulin resistance is not managed, it can progress to diabetes.\n"
     ]
    }
   ],
   "source": [
    "import os.path\n",
    "from llama_index.core import VectorStoreIndex,SimpleDirectoryReader,StorageContext,load_index_from_storage\n",
    "\n",
    "# check if storage already exists\n",
    "PERSIST_DIR = \"./storage\"\n",
    "if not os.path.exists(PERSIST_DIR):\n",
    "    # load the documents and create the index\n",
    "    documents = SimpleDirectoryReader(\"data\").load_data()\n",
    "    index = VectorStoreIndex.from_documents(documents)\n",
    "    # store it for later\n",
    "    index.storage_context.persist(persist_dir=PERSIST_DIR)\n",
    "else:\n",
    "    # load the existing index\n",
    "    storage_context = StorageContext.from_defaults(persist_dir=PERSIST_DIR)\n",
    "    index = load_index_from_storage(storage_context)\n",
    "\n",
    "# either way we can now query the index\n",
    "query_engine = index.as_query_engine()\n",
    "response = query_engine.query(\"what is the connection between insulin resistance and diabetes\")\n",
    "print(response)"
   ]
  },
  {
   "cell_type": "code",
   "execution_count": null,
   "metadata": {},
   "outputs": [],
   "source": []
  }
 ],
 "metadata": {
  "kernelspec": {
   "display_name": "myapp",
   "language": "python",
   "name": "python3"
  },
  "language_info": {
   "codemirror_mode": {
    "name": "ipython",
    "version": 3
   },
   "file_extension": ".py",
   "mimetype": "text/x-python",
   "name": "python",
   "nbconvert_exporter": "python",
   "pygments_lexer": "ipython3",
   "version": "3.11.0"
  }
 },
 "nbformat": 4,
 "nbformat_minor": 2
}
